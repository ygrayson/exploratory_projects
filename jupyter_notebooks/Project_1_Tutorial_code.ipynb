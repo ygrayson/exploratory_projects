{
 "cells": [
  {
   "cell_type": "markdown",
   "metadata": {
    "colab_type": "text",
    "id": "IEvgssbMwVUo"
   },
   "source": [
    "# Project 1 Tutorial"
   ]
  },
  {
   "cell_type": "markdown",
   "metadata": {
    "colab_type": "text",
    "id": "G0KghQnswVUw"
   },
   "source": [
    "In this jupyter notebook, we will be going over some functions that are essential for project 1."
   ]
  },
  {
   "cell_type": "code",
   "execution_count": 0,
   "metadata": {
    "colab": {},
    "colab_type": "code",
    "id": "BCDG0YV-wVUy",
    "outputId": "ddb240c3-349a-43b1-9780-3a67dbe5e378"
   },
   "outputs": [
    {
     "name": "stdout",
     "output_type": "stream",
     "text": [
      "The Big Bang Theory is the worst tv show ever\n",
      "The Big Bang Theory is the best tv show ever\n",
      "30 Rock is the best tv show ever\n",
      "30 Rock is thE bEst tv show EvEr\n"
     ]
    }
   ],
   "source": [
    "# Dealing with strings\n",
    "import string\n",
    "\n",
    "# Replacing substrings\n",
    "text = \"The Big Bang Theory is the worst tv show ever\"\n",
    "print(text)\n",
    "text = text.replace(\"worst\", \"best\")\n",
    "print(text)\n",
    "text = text.replace(\"The Big Bang Theory\", \"30 Rock\")\n",
    "print(text)\n",
    "text = text.replace(\"e\", \"E\")\n",
    "print(text)"
   ]
  },
  {
   "cell_type": "code",
   "execution_count": 0,
   "metadata": {
    "colab": {},
    "colab_type": "code",
    "id": "evM8WzJMwVVA",
    "outputId": "e071be4d-f623-4402-e15c-19eca783a244"
   },
   "outputs": [
    {
     "name": "stdout",
     "output_type": "stream",
     "text": [
      "<class 'str'>\n",
      "!\"#$%&'()*+,-./:;<=>?@[\\]^_`{|}~\n",
      "$\n",
      "~\n"
     ]
    }
   ],
   "source": [
    "# Punctuation\n",
    "\n",
    "print(type(string.punctuation))\n",
    "print(string.punctuation)\n",
    "print(string.punctuation[3])\n",
    "print(string.punctuation[-1])"
   ]
  },
  {
   "cell_type": "code",
   "execution_count": 0,
   "metadata": {
    "colab": {},
    "colab_type": "code",
    "id": "lainkjU7wVVL",
    "outputId": "f12040f6-c050-44b1-82d8-501786f924d5"
   },
   "outputs": [
    {
     "name": "stdout",
     "output_type": "stream",
     "text": [
      "CLUB DE CUERVOS\n",
      "club de cuervos\n"
     ]
    }
   ],
   "source": [
    "# Upper and lower case\n",
    "text = \"Club de Cuervos\"\n",
    "print(text.upper())\n",
    "print(text.lower())"
   ]
  },
  {
   "cell_type": "code",
   "execution_count": 0,
   "metadata": {
    "colab": {},
    "colab_type": "code",
    "id": "IE9ndl0bwVVU",
    "outputId": "0e35f011-7d0b-4b16-fd37-92eeb3337804"
   },
   "outputs": [
    {
     "name": "stdout",
     "output_type": "stream",
     "text": [
      "<class 'list'>\n",
      "[\"L'etat,\", \"c'est\", 'moi']\n",
      "['L', 'etat, c', 'est moi']\n",
      "L'etat,-c'est-moi\n"
     ]
    }
   ],
   "source": [
    "# Splitting strings\n",
    "text = \"L'etat, c'est moi\"\n",
    "print(type(text.split()))\n",
    "print(text.split())\n",
    "print(text.split(\"'\"))\n",
    "print(\"-\".join(text.split()))"
   ]
  },
  {
   "cell_type": "markdown",
   "metadata": {
    "colab_type": "text",
    "id": "8ukxGMXpwVVd"
   },
   "source": [
    "## Using SVM's for data classification\n",
    "\n",
    "We will now be going over how to use the SVM sklearn library"
   ]
  },
  {
   "cell_type": "code",
   "execution_count": 0,
   "metadata": {
    "colab": {},
    "colab_type": "code",
    "id": "KQjDUlNLwVVe"
   },
   "outputs": [],
   "source": [
    "# Using SVC\n",
    "# Loading the dataset from sklearn\n",
    "# (only for demo purposes)\n",
    "from sklearn.datasets import load_breast_cancer\n",
    "\n",
    "dataset = load_breast_cancer()\n",
    "X = dataset.data\n",
    "y = dataset.target\n",
    "\n",
    "# Splitting into train and test data\n",
    "# (only for demo purposes)\n",
    "\n",
    "from sklearn.model_selection import train_test_split\n",
    "\n",
    "X_train, X_test, y_train, y_test = train_test_split(X, y, test_size=0.25)\n"
   ]
  },
  {
   "cell_type": "code",
   "execution_count": 2,
   "metadata": {
    "colab": {
     "base_uri": "https://localhost:8080/",
     "height": 92
    },
    "colab_type": "code",
    "executionInfo": {
     "elapsed": 2938,
     "status": "ok",
     "timestamp": 1569963325074,
     "user": {
      "displayName": "Karl Koenig",
      "photoUrl": "",
      "userId": "04060943899680733569"
     },
     "user_tz": 240
    },
    "id": "hFBEAUHnwVVl",
    "outputId": "6d82205c-1e7c-49d2-ef4a-5c3e2599fbe0"
   },
   "outputs": [
    {
     "name": "stdout",
     "output_type": "stream",
     "text": [
      "[0 0 0 1 1 0 1 0 1 1 1 0 0 0 1 1 1 0 1 0 1 1 0 1 1 1 1 1 0 0 1 1 0 0 0 0 1\n",
      " 1 1 1 1 1 1 0 1 1 1 1 1 1 1 1 1 1 0 0 1 1 1 1 1 0 0 0 1 1 1 1 0 1 1 0 1 1\n",
      " 0 1 1 1 0 1 0 1 1 1 1 1 0 1 1 0 0 1 0 0 0 1 1 1 0 1 1 1 0 0 1 0 0 0 0 1 0\n",
      " 1 1 0 1 0 1 1 1 0 1 0 1 1 1 0 1 1 0 1 1 0 0 1 1 1 0 0 1 1 1 1 1]\n"
     ]
    }
   ],
   "source": [
    "# Creating the classifiers\n",
    "\n",
    "import numpy as np\n",
    "from sklearn.svm import SVC, LinearSVC\n",
    "\n",
    "clf = SVC(kernel='linear', C=1.0, class_weight=\"balanced\")\n",
    "# Training the classifier\n",
    "clf.fit(X_train, y_train)\n",
    "\n",
    "# Predicting classes\n",
    "y_pred = clf.predict(X_test)\n",
    "\n",
    "print(y_pred)"
   ]
  },
  {
   "cell_type": "markdown",
   "metadata": {
    "colab_type": "text",
    "id": "m_H2CdoPwVVr"
   },
   "source": [
    "# Metrics and Imbalances\n",
    "\n",
    "Now that we have trained our classifier, we need to check if it is good at its job or if we need to alter its hyperparameters.\n",
    "\n",
    "By using different metrics, we can check how good the classifier is at different things"
   ]
  },
  {
   "cell_type": "code",
   "execution_count": 0,
   "metadata": {
    "colab": {},
    "colab_type": "code",
    "id": "r5xgFXjdwVVw",
    "outputId": "1e4c9528-9dc1-44a2-dba3-56a323dcbb00"
   },
   "outputs": [
    {
     "name": "stdout",
     "output_type": "stream",
     "text": [
      "accuracy: 0.951048951048951\n",
      "f1 score: 0.966183574879227\n",
      "precision: 0.9615384615384616\n",
      "recall: 0.970873786407767\n"
     ]
    }
   ],
   "source": [
    "# Metrics\n",
    "from sklearn import metrics\n",
    "\n",
    "print(f\"accuracy: {metrics.accuracy_score(y_test,y_pred)}\")\n",
    "print(f\"f1 score: {metrics.f1_score(y_test,y_pred)}\")\n",
    "print(f\"precision: {metrics.precision_score(y_test,y_pred)}\")\n",
    "print(f\"recall: {metrics.recall_score(y_test,y_pred)}\")"
   ]
  },
  {
   "cell_type": "code",
   "execution_count": 0,
   "metadata": {
    "colab": {},
    "colab_type": "code",
    "id": "DWvN4OgJwVV2",
    "outputId": "1cce07d7-6592-40f4-f335-ad85d90af02e"
   },
   "outputs": [
    {
     "name": "stdout",
     "output_type": "stream",
     "text": [
      "auroc with predict: 0.9354368932038835\n",
      "auroc with decision_function: 0.9927184466019418\n"
     ]
    }
   ],
   "source": [
    "# Auroc score\n",
    "\n",
    "# Due to how Auroc works, we have to use a \"different\" prediction\n",
    "\n",
    "y_pred = clf.predict(X_test)\n",
    "print(f\"auroc with predict: {metrics.roc_auc_score(y_test,y_pred)}\")\n",
    "# The decision_function() gives \"how positively/negatively\" the point was classified\n",
    "# rather than simply the class prediction\n",
    "y_pred = clf.decision_function(X_test)\n",
    "# print(y_pred)\n",
    "\n",
    "print(f\"auroc with decision_function: {metrics.roc_auc_score(y_test,y_pred)}\")"
   ]
  },
  {
   "cell_type": "markdown",
   "metadata": {
    "colab_type": "text",
    "id": "fP_MqZucwVV9"
   },
   "source": [
    "We can also use a confusion matrix to get the exact number of correct and incorrect positive and negative classifications.\n",
    "From these, we can also build almost all other performance metrics"
   ]
  },
  {
   "cell_type": "code",
   "execution_count": 0,
   "metadata": {
    "colab": {},
    "colab_type": "code",
    "id": "0rjcnisWwVV-",
    "outputId": "405ac192-650b-428e-ec5c-d19decbc5ddd"
   },
   "outputs": [
    {
     "name": "stdout",
     "output_type": "stream",
     "text": [
      "True Positive: 100\n",
      "False Negative: 3\n",
      "False Positive: 4\n",
      "True Negative: 36\n"
     ]
    }
   ],
   "source": [
    "# Confusion Matrix\n",
    "y_pred = clf.predict(X_test)\n",
    "conf_mat = metrics.confusion_matrix(y_test, y_pred, [1, 0])\n",
    "tp = conf_mat[0, 0]\n",
    "fn = conf_mat[0, 1]\n",
    "fp = conf_mat[1, 0]\n",
    "tn = conf_mat[1, 1]\n",
    "\n",
    "print(f\"True Positive: {tp}\")\n",
    "print(f\"False Negative: {fn}\")\n",
    "print(f\"False Positive: {fp}\")\n",
    "print(f\"True Negative: {tn}\")"
   ]
  },
  {
   "cell_type": "code",
   "execution_count": 0,
   "metadata": {
    "colab": {},
    "colab_type": "code",
    "id": "K-SNCQWSwVWF",
    "outputId": "a84080de-a6b6-4265-966e-f38ce3b01a40"
   },
   "outputs": [
    {
     "name": "stdout",
     "output_type": "stream",
     "text": [
      "[1 1 0 0 1 1 1 1 0 1 1 1 1 1 1 1 1 0 0 1 0 1 1 1 1 1 1 1 1 0 1 1 1 0 1 1 1\n",
      " 1 1 1 1 1 1 1 1 1 0 1 1 1 0 1 1 1 1 1 1 1 1 1 1 1 0 1 0 0 1 1 1 1 1 1 1 1\n",
      " 1 1 1 1 0 0 0 1 0 1 1 1 1 0 0 1 1 0 1 1 1 1 1 1 1 1 1 0 1 1 1 1 1 0 1 0 1\n",
      " 1 1 0 1 1 0 0 1 0 1 1 0 1 1 1 0 1 1 1 0 1 0 1 1 1 1 1 1 1 1 1 1]\n"
     ]
    }
   ],
   "source": [
    "# Putting in class weights\n",
    "\n",
    "clf = SVC(kernel='linear', C=1.0, class_weight={0: 1, 1: 100})\n",
    "# Training the classifier\n",
    "clf.fit(X_train, y_train)\n",
    "\n",
    "# Predicting classes\n",
    "y_pred = clf.predict(X_test)\n",
    "\n",
    "print(y_pred)"
   ]
  },
  {
   "cell_type": "code",
   "execution_count": 0,
   "metadata": {
    "colab": {},
    "colab_type": "code",
    "id": "ZlHjSKMHwVWJ"
   },
   "outputs": [],
   "source": []
  }
 ],
 "metadata": {
  "colab": {
   "name": "Project_1_Tutorial_code.ipynb",
   "provenance": []
  },
  "kernelspec": {
   "display_name": "Python 3",
   "language": "python",
   "name": "python3"
  },
  "language_info": {
   "codemirror_mode": {
    "name": "ipython",
    "version": 3
   },
   "file_extension": ".py",
   "mimetype": "text/x-python",
   "name": "python",
   "nbconvert_exporter": "python",
   "pygments_lexer": "ipython3",
   "version": "3.7.4"
  }
 },
 "nbformat": 4,
 "nbformat_minor": 1
}
